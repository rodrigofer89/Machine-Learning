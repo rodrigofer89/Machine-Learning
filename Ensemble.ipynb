{
  "nbformat": 4,
  "nbformat_minor": 0,
  "metadata": {
    "colab": {
      "provenance": [],
      "authorship_tag": "ABX9TyNzsSfKzxKBDuUpWvgjvZ29",
      "include_colab_link": true
    },
    "kernelspec": {
      "name": "python3",
      "display_name": "Python 3"
    },
    "language_info": {
      "name": "python"
    }
  },
  "cells": [
    {
      "cell_type": "markdown",
      "metadata": {
        "id": "view-in-github",
        "colab_type": "text"
      },
      "source": [
        "<a href=\"https://colab.research.google.com/github/rodrigofer89/Machine-Learning/blob/main/Ensemble.ipynb\" target=\"_parent\"><img src=\"https://colab.research.google.com/assets/colab-badge.svg\" alt=\"Open In Colab\"/></a>"
      ]
    },
    {
      "cell_type": "markdown",
      "source": [
        "### Aula 24 - Métodos de ensemble"
      ],
      "metadata": {
        "id": "nXVPo0lpDiBH"
      }
    },
    {
      "cell_type": "code",
      "execution_count": 15,
      "metadata": {
        "id": "jZNWecqDDIlb"
      },
      "outputs": [],
      "source": [
        "# imports\n",
        "import pandas as pd\n",
        "import numpy as np\n",
        "\n",
        "from sklearn.tree import DecisionTreeClassifier\n",
        "from sklearn.linear_model import LogisticRegression\n",
        "from sklearn.svm import SVC\n",
        "from sklearn.neighbors import KNeighborsClassifier\n",
        "\n",
        "from sklearn.ensemble import VotingClassifier\n",
        "\n",
        "from sklearn.model_selection import train_test_split, cross_val_score, KFold\n",
        "from sklearn.metrics import confusion_matrix\n",
        "\n",
        "from sklearn.preprocessing import StandardScaler, LabelEncoder, OneHotEncoder\n",
        "from sklearn.compose import ColumnTransformer"
      ]
    },
    {
      "cell_type": "code",
      "source": [
        "# Ler o dataset\n",
        "df = pd.read_csv('Churn_Modelling.csv')\n",
        "df.sample(10)"
      ],
      "metadata": {
        "colab": {
          "base_uri": "https://localhost:8080/",
          "height": 427
        },
        "id": "_E9m2eVwEw9p",
        "outputId": "a9bbfe16-b13f-44e3-924f-7f059d6bddb2"
      },
      "execution_count": 16,
      "outputs": [
        {
          "output_type": "execute_result",
          "data": {
            "text/plain": [
              "      RowNumber  CustomerId     Surname  CreditScore Geography  Gender  Age  \\\n",
              "6366       6367    15677324       Botts          683   Germany    Male   73   \n",
              "8265       8266    15618562    Woodward          618   Germany  Female   40   \n",
              "6077       6078    15738588     Nebechi          660   Germany  Female   37   \n",
              "8365       8366    15659949        Chiu          850    France    Male   31   \n",
              "7668       7669    15611794    Galloway          526   Germany    Male   61   \n",
              "2876       2877    15585284     Thomson          604     Spain  Female   35   \n",
              "5248       5249    15700366      Burton          669    France    Male   39   \n",
              "2884       2885    15776047    Nicholls          620    France  Female   29   \n",
              "8369       8370    15632882  Konovalova          684   Germany    Male   37   \n",
              "6635       6636    15678374     Colombo          666    France  Female   59   \n",
              "\n",
              "      Tenure    Balance  NumOfProducts  HasCrCard  IsActiveMember  \\\n",
              "6366       9  124730.26              1          1               1   \n",
              "8265       0  140306.38              1          1               0   \n",
              "6077       2  133200.09              1          0               0   \n",
              "8365       1   96399.31              2          1               0   \n",
              "7668       6  133845.28              2          1               1   \n",
              "2876       7  147285.52              1          1               1   \n",
              "5248       3  119452.03              1          1               1   \n",
              "2884       3       0.00              2          0               1   \n",
              "8369       1  126817.13              2          1               1   \n",
              "6635       5       0.00              2          1               1   \n",
              "\n",
              "      EstimatedSalary  Exited  \n",
              "6366         51999.50       0  \n",
              "8265        160618.61       1  \n",
              "6077         71433.88       0  \n",
              "8365        106534.15       0  \n",
              "7668         45180.80       0  \n",
              "2876         57807.05       0  \n",
              "5248        171575.54       0  \n",
              "2884        153392.28       0  \n",
              "8369         29995.83       1  \n",
              "6635        185123.09       0  "
            ],
            "text/html": [
              "\n",
              "  <div id=\"df-8a732bbe-3dbf-4152-b785-c302fbbb02ee\">\n",
              "    <div class=\"colab-df-container\">\n",
              "      <div>\n",
              "<style scoped>\n",
              "    .dataframe tbody tr th:only-of-type {\n",
              "        vertical-align: middle;\n",
              "    }\n",
              "\n",
              "    .dataframe tbody tr th {\n",
              "        vertical-align: top;\n",
              "    }\n",
              "\n",
              "    .dataframe thead th {\n",
              "        text-align: right;\n",
              "    }\n",
              "</style>\n",
              "<table border=\"1\" class=\"dataframe\">\n",
              "  <thead>\n",
              "    <tr style=\"text-align: right;\">\n",
              "      <th></th>\n",
              "      <th>RowNumber</th>\n",
              "      <th>CustomerId</th>\n",
              "      <th>Surname</th>\n",
              "      <th>CreditScore</th>\n",
              "      <th>Geography</th>\n",
              "      <th>Gender</th>\n",
              "      <th>Age</th>\n",
              "      <th>Tenure</th>\n",
              "      <th>Balance</th>\n",
              "      <th>NumOfProducts</th>\n",
              "      <th>HasCrCard</th>\n",
              "      <th>IsActiveMember</th>\n",
              "      <th>EstimatedSalary</th>\n",
              "      <th>Exited</th>\n",
              "    </tr>\n",
              "  </thead>\n",
              "  <tbody>\n",
              "    <tr>\n",
              "      <th>6366</th>\n",
              "      <td>6367</td>\n",
              "      <td>15677324</td>\n",
              "      <td>Botts</td>\n",
              "      <td>683</td>\n",
              "      <td>Germany</td>\n",
              "      <td>Male</td>\n",
              "      <td>73</td>\n",
              "      <td>9</td>\n",
              "      <td>124730.26</td>\n",
              "      <td>1</td>\n",
              "      <td>1</td>\n",
              "      <td>1</td>\n",
              "      <td>51999.50</td>\n",
              "      <td>0</td>\n",
              "    </tr>\n",
              "    <tr>\n",
              "      <th>8265</th>\n",
              "      <td>8266</td>\n",
              "      <td>15618562</td>\n",
              "      <td>Woodward</td>\n",
              "      <td>618</td>\n",
              "      <td>Germany</td>\n",
              "      <td>Female</td>\n",
              "      <td>40</td>\n",
              "      <td>0</td>\n",
              "      <td>140306.38</td>\n",
              "      <td>1</td>\n",
              "      <td>1</td>\n",
              "      <td>0</td>\n",
              "      <td>160618.61</td>\n",
              "      <td>1</td>\n",
              "    </tr>\n",
              "    <tr>\n",
              "      <th>6077</th>\n",
              "      <td>6078</td>\n",
              "      <td>15738588</td>\n",
              "      <td>Nebechi</td>\n",
              "      <td>660</td>\n",
              "      <td>Germany</td>\n",
              "      <td>Female</td>\n",
              "      <td>37</td>\n",
              "      <td>2</td>\n",
              "      <td>133200.09</td>\n",
              "      <td>1</td>\n",
              "      <td>0</td>\n",
              "      <td>0</td>\n",
              "      <td>71433.88</td>\n",
              "      <td>0</td>\n",
              "    </tr>\n",
              "    <tr>\n",
              "      <th>8365</th>\n",
              "      <td>8366</td>\n",
              "      <td>15659949</td>\n",
              "      <td>Chiu</td>\n",
              "      <td>850</td>\n",
              "      <td>France</td>\n",
              "      <td>Male</td>\n",
              "      <td>31</td>\n",
              "      <td>1</td>\n",
              "      <td>96399.31</td>\n",
              "      <td>2</td>\n",
              "      <td>1</td>\n",
              "      <td>0</td>\n",
              "      <td>106534.15</td>\n",
              "      <td>0</td>\n",
              "    </tr>\n",
              "    <tr>\n",
              "      <th>7668</th>\n",
              "      <td>7669</td>\n",
              "      <td>15611794</td>\n",
              "      <td>Galloway</td>\n",
              "      <td>526</td>\n",
              "      <td>Germany</td>\n",
              "      <td>Male</td>\n",
              "      <td>61</td>\n",
              "      <td>6</td>\n",
              "      <td>133845.28</td>\n",
              "      <td>2</td>\n",
              "      <td>1</td>\n",
              "      <td>1</td>\n",
              "      <td>45180.80</td>\n",
              "      <td>0</td>\n",
              "    </tr>\n",
              "    <tr>\n",
              "      <th>2876</th>\n",
              "      <td>2877</td>\n",
              "      <td>15585284</td>\n",
              "      <td>Thomson</td>\n",
              "      <td>604</td>\n",
              "      <td>Spain</td>\n",
              "      <td>Female</td>\n",
              "      <td>35</td>\n",
              "      <td>7</td>\n",
              "      <td>147285.52</td>\n",
              "      <td>1</td>\n",
              "      <td>1</td>\n",
              "      <td>1</td>\n",
              "      <td>57807.05</td>\n",
              "      <td>0</td>\n",
              "    </tr>\n",
              "    <tr>\n",
              "      <th>5248</th>\n",
              "      <td>5249</td>\n",
              "      <td>15700366</td>\n",
              "      <td>Burton</td>\n",
              "      <td>669</td>\n",
              "      <td>France</td>\n",
              "      <td>Male</td>\n",
              "      <td>39</td>\n",
              "      <td>3</td>\n",
              "      <td>119452.03</td>\n",
              "      <td>1</td>\n",
              "      <td>1</td>\n",
              "      <td>1</td>\n",
              "      <td>171575.54</td>\n",
              "      <td>0</td>\n",
              "    </tr>\n",
              "    <tr>\n",
              "      <th>2884</th>\n",
              "      <td>2885</td>\n",
              "      <td>15776047</td>\n",
              "      <td>Nicholls</td>\n",
              "      <td>620</td>\n",
              "      <td>France</td>\n",
              "      <td>Female</td>\n",
              "      <td>29</td>\n",
              "      <td>3</td>\n",
              "      <td>0.00</td>\n",
              "      <td>2</td>\n",
              "      <td>0</td>\n",
              "      <td>1</td>\n",
              "      <td>153392.28</td>\n",
              "      <td>0</td>\n",
              "    </tr>\n",
              "    <tr>\n",
              "      <th>8369</th>\n",
              "      <td>8370</td>\n",
              "      <td>15632882</td>\n",
              "      <td>Konovalova</td>\n",
              "      <td>684</td>\n",
              "      <td>Germany</td>\n",
              "      <td>Male</td>\n",
              "      <td>37</td>\n",
              "      <td>1</td>\n",
              "      <td>126817.13</td>\n",
              "      <td>2</td>\n",
              "      <td>1</td>\n",
              "      <td>1</td>\n",
              "      <td>29995.83</td>\n",
              "      <td>1</td>\n",
              "    </tr>\n",
              "    <tr>\n",
              "      <th>6635</th>\n",
              "      <td>6636</td>\n",
              "      <td>15678374</td>\n",
              "      <td>Colombo</td>\n",
              "      <td>666</td>\n",
              "      <td>France</td>\n",
              "      <td>Female</td>\n",
              "      <td>59</td>\n",
              "      <td>5</td>\n",
              "      <td>0.00</td>\n",
              "      <td>2</td>\n",
              "      <td>1</td>\n",
              "      <td>1</td>\n",
              "      <td>185123.09</td>\n",
              "      <td>0</td>\n",
              "    </tr>\n",
              "  </tbody>\n",
              "</table>\n",
              "</div>\n",
              "      <button class=\"colab-df-convert\" onclick=\"convertToInteractive('df-8a732bbe-3dbf-4152-b785-c302fbbb02ee')\"\n",
              "              title=\"Convert this dataframe to an interactive table.\"\n",
              "              style=\"display:none;\">\n",
              "        \n",
              "  <svg xmlns=\"http://www.w3.org/2000/svg\" height=\"24px\"viewBox=\"0 0 24 24\"\n",
              "       width=\"24px\">\n",
              "    <path d=\"M0 0h24v24H0V0z\" fill=\"none\"/>\n",
              "    <path d=\"M18.56 5.44l.94 2.06.94-2.06 2.06-.94-2.06-.94-.94-2.06-.94 2.06-2.06.94zm-11 1L8.5 8.5l.94-2.06 2.06-.94-2.06-.94L8.5 2.5l-.94 2.06-2.06.94zm10 10l.94 2.06.94-2.06 2.06-.94-2.06-.94-.94-2.06-.94 2.06-2.06.94z\"/><path d=\"M17.41 7.96l-1.37-1.37c-.4-.4-.92-.59-1.43-.59-.52 0-1.04.2-1.43.59L10.3 9.45l-7.72 7.72c-.78.78-.78 2.05 0 2.83L4 21.41c.39.39.9.59 1.41.59.51 0 1.02-.2 1.41-.59l7.78-7.78 2.81-2.81c.8-.78.8-2.07 0-2.86zM5.41 20L4 18.59l7.72-7.72 1.47 1.35L5.41 20z\"/>\n",
              "  </svg>\n",
              "      </button>\n",
              "      \n",
              "  <style>\n",
              "    .colab-df-container {\n",
              "      display:flex;\n",
              "      flex-wrap:wrap;\n",
              "      gap: 12px;\n",
              "    }\n",
              "\n",
              "    .colab-df-convert {\n",
              "      background-color: #E8F0FE;\n",
              "      border: none;\n",
              "      border-radius: 50%;\n",
              "      cursor: pointer;\n",
              "      display: none;\n",
              "      fill: #1967D2;\n",
              "      height: 32px;\n",
              "      padding: 0 0 0 0;\n",
              "      width: 32px;\n",
              "    }\n",
              "\n",
              "    .colab-df-convert:hover {\n",
              "      background-color: #E2EBFA;\n",
              "      box-shadow: 0px 1px 2px rgba(60, 64, 67, 0.3), 0px 1px 3px 1px rgba(60, 64, 67, 0.15);\n",
              "      fill: #174EA6;\n",
              "    }\n",
              "\n",
              "    [theme=dark] .colab-df-convert {\n",
              "      background-color: #3B4455;\n",
              "      fill: #D2E3FC;\n",
              "    }\n",
              "\n",
              "    [theme=dark] .colab-df-convert:hover {\n",
              "      background-color: #434B5C;\n",
              "      box-shadow: 0px 1px 3px 1px rgba(0, 0, 0, 0.15);\n",
              "      filter: drop-shadow(0px 1px 2px rgba(0, 0, 0, 0.3));\n",
              "      fill: #FFFFFF;\n",
              "    }\n",
              "  </style>\n",
              "\n",
              "      <script>\n",
              "        const buttonEl =\n",
              "          document.querySelector('#df-8a732bbe-3dbf-4152-b785-c302fbbb02ee button.colab-df-convert');\n",
              "        buttonEl.style.display =\n",
              "          google.colab.kernel.accessAllowed ? 'block' : 'none';\n",
              "\n",
              "        async function convertToInteractive(key) {\n",
              "          const element = document.querySelector('#df-8a732bbe-3dbf-4152-b785-c302fbbb02ee');\n",
              "          const dataTable =\n",
              "            await google.colab.kernel.invokeFunction('convertToInteractive',\n",
              "                                                     [key], {});\n",
              "          if (!dataTable) return;\n",
              "\n",
              "          const docLinkHtml = 'Like what you see? Visit the ' +\n",
              "            '<a target=\"_blank\" href=https://colab.research.google.com/notebooks/data_table.ipynb>data table notebook</a>'\n",
              "            + ' to learn more about interactive tables.';\n",
              "          element.innerHTML = '';\n",
              "          dataTable['output_type'] = 'display_data';\n",
              "          await google.colab.output.renderOutput(dataTable, element);\n",
              "          const docLink = document.createElement('div');\n",
              "          docLink.innerHTML = docLinkHtml;\n",
              "          element.appendChild(docLink);\n",
              "        }\n",
              "      </script>\n",
              "    </div>\n",
              "  </div>\n",
              "  "
            ]
          },
          "metadata": {},
          "execution_count": 16
        }
      ]
    },
    {
      "cell_type": "code",
      "source": [
        "df.info()"
      ],
      "metadata": {
        "colab": {
          "base_uri": "https://localhost:8080/"
        },
        "id": "aAJ-gq98FG2M",
        "outputId": "ea7e6bdc-2abd-4eb0-82f7-a17dfee8795f"
      },
      "execution_count": 17,
      "outputs": [
        {
          "output_type": "stream",
          "name": "stdout",
          "text": [
            "<class 'pandas.core.frame.DataFrame'>\n",
            "RangeIndex: 10000 entries, 0 to 9999\n",
            "Data columns (total 14 columns):\n",
            " #   Column           Non-Null Count  Dtype  \n",
            "---  ------           --------------  -----  \n",
            " 0   RowNumber        10000 non-null  int64  \n",
            " 1   CustomerId       10000 non-null  int64  \n",
            " 2   Surname          10000 non-null  object \n",
            " 3   CreditScore      10000 non-null  int64  \n",
            " 4   Geography        10000 non-null  object \n",
            " 5   Gender           10000 non-null  object \n",
            " 6   Age              10000 non-null  int64  \n",
            " 7   Tenure           10000 non-null  int64  \n",
            " 8   Balance          10000 non-null  float64\n",
            " 9   NumOfProducts    10000 non-null  int64  \n",
            " 10  HasCrCard        10000 non-null  int64  \n",
            " 11  IsActiveMember   10000 non-null  int64  \n",
            " 12  EstimatedSalary  10000 non-null  float64\n",
            " 13  Exited           10000 non-null  int64  \n",
            "dtypes: float64(2), int64(9), object(3)\n",
            "memory usage: 1.1+ MB\n"
          ]
        }
      ]
    },
    {
      "cell_type": "code",
      "source": [
        "# Separação de dados de treinamento e teste, preprocessamento\n",
        "X = df.iloc[:, 3:13].values\n",
        "y = df.iloc[:, 13].values\n",
        "\n",
        "le = LabelEncoder()\n",
        "X[:, 1] = le.fit_transform(X[:, 1])\n",
        "\n",
        "le_sex = LabelEncoder()\n",
        "X[:, 2] = le.fit_transform(X[:, 2])\n",
        "\n",
        "ct = ColumnTransformer( [ ('Geography', OneHotEncoder(), [1]) ],\n",
        "                       remainder='passthrough')\n",
        "\n",
        "X = ct.fit_transform(X)\n",
        "X = X[:, 1:]\n",
        "\n",
        "X_train, X_test, y_train, y_test = train_test_split(X,\n",
        "                                                    y,\n",
        "                                                    test_size=0.15,\n",
        "                                                    random_state=0,\n",
        "                                                    stratify=y)"
      ],
      "metadata": {
        "id": "IIVfJ2xfFXY7"
      },
      "execution_count": 18,
      "outputs": []
    },
    {
      "cell_type": "code",
      "source": [
        "# Escalar as features\n",
        "sc = StandardScaler()\n",
        "X_train = sc.fit_transform(X_train)\n",
        "X_test = sc.transform(X_test)"
      ],
      "metadata": {
        "id": "NlEsNV_vISRQ"
      },
      "execution_count": 30,
      "outputs": []
    },
    {
      "cell_type": "code",
      "source": [
        "# Treinando modelos\n",
        "model1 = LogisticRegression()\n",
        "model2 = DecisionTreeClassifier(max_depth=2)\n",
        "model3 = SVC()\n",
        "model4 = KNeighborsClassifier(n_neighbors=5)\n",
        "\n",
        "\n",
        "model1.fit(X_train, y_train)\n",
        "model2.fit(X_train, y_train)\n",
        "model3.fit(X_train, y_train)\n",
        "model4.fit(X_train, y_train)\n",
        "\n",
        "y_pred1 = model1.predict(X_test)\n",
        "y_pred2 = model2.predict(X_test)\n",
        "y_pred3 = model3.predict(X_test)\n",
        "y_pred4 = model4.predict(X_test)\n",
        "\n",
        "cm_model1 = confusion_matrix(y_test, y_pred1)\n",
        "cm_model2 = confusion_matrix(y_test, y_pred2)\n",
        "cm_model3 = confusion_matrix(y_test, y_pred3)\n",
        "cm_model4 = confusion_matrix(y_test, y_pred4)\n",
        "\n",
        "display(cm_model1)\n",
        "display(cm_model2)\n",
        "display(cm_model3)\n",
        "display(cm_model4)\n"
      ],
      "metadata": {
        "colab": {
          "base_uri": "https://localhost:8080/",
          "height": 164
        },
        "id": "fbKeAdpGKUuJ",
        "outputId": "7003b2e6-c78d-44e1-9ceb-814675e34ed8"
      },
      "execution_count": 31,
      "outputs": [
        {
          "output_type": "display_data",
          "data": {
            "text/plain": [
              "array([[1147,   47],\n",
              "       [ 245,   61]])"
            ]
          },
          "metadata": {}
        },
        {
          "output_type": "display_data",
          "data": {
            "text/plain": [
              "array([[1104,   90],\n",
              "       [ 181,  125]])"
            ]
          },
          "metadata": {}
        },
        {
          "output_type": "display_data",
          "data": {
            "text/plain": [
              "array([[1172,   22],\n",
              "       [ 206,  100]])"
            ]
          },
          "metadata": {}
        },
        {
          "output_type": "display_data",
          "data": {
            "text/plain": [
              "array([[1131,   63],\n",
              "       [ 203,  103]])"
            ]
          },
          "metadata": {}
        }
      ]
    },
    {
      "cell_type": "code",
      "source": [
        "# 10-fold CV\n",
        "kfold = KFold(n_splits=10)\n",
        "result1 = cross_val_score(model1, X_train, y_train, cv=kfold)\n",
        "result2 = cross_val_score(model2, X_train, y_train, cv=kfold)\n",
        "result3 = cross_val_score(model3, X_train, y_train, cv=kfold)\n",
        "result4 = cross_val_score(model4, X_train, y_train, cv=kfold)\n",
        "\n",
        "# Resultado\n",
        "print('ACC Regressão Logistica: ', result1.mean())\n",
        "print('ACC    àvore de Decisão: ', result2.mean())\n",
        "print('ACC                 SVM: ', result3.mean())\n",
        "print('ACC                 KNN: ', result4.mean())"
      ],
      "metadata": {
        "colab": {
          "base_uri": "https://localhost:8080/"
        },
        "id": "ZT81w0ybLWq1",
        "outputId": "f31bd33e-9ee5-4dfe-8161-96462acedccd"
      },
      "execution_count": 32,
      "outputs": [
        {
          "output_type": "stream",
          "name": "stdout",
          "text": [
            "ACC Regressão Logistica:  0.8110588235294116\n",
            "ACC    àvore de Decisão:  0.8311764705882352\n",
            "ACC                 SVM:  0.8558823529411764\n",
            "ACC                 KNN:  0.8294117647058823\n"
          ]
        }
      ]
    },
    {
      "cell_type": "code",
      "source": [
        "# Esquema de enseble\n",
        "estimators = [('regressão', model1),\n",
        "              ('árvore', model2),\n",
        "              ('svm', model3),\n",
        "              ('knn', model4)]\n",
        "\n",
        "ensemble = VotingClassifier(estimators)\n",
        "ensemble.fit(X_train, y_train)\n",
        "y_pred = ensemble.predict(X_test)"
      ],
      "metadata": {
        "id": "hcv5tpt0Mi6z"
      },
      "execution_count": 33,
      "outputs": []
    },
    {
      "cell_type": "code",
      "source": [
        "result_ensemble = cross_val_score(ensemble, X_train, y_train, cv=kfold)\n",
        "print('ACC Ensemble: ', result_ensemble.mean())"
      ],
      "metadata": {
        "colab": {
          "base_uri": "https://localhost:8080/"
        },
        "id": "MmZhU1UiNaqF",
        "outputId": "9b3c45e9-c7bb-4a44-bed1-be10dc0357ef"
      },
      "execution_count": 34,
      "outputs": [
        {
          "output_type": "stream",
          "name": "stdout",
          "text": [
            "ACC Ensemble:  0.8425882352941176\n"
          ]
        }
      ]
    },
    {
      "cell_type": "code",
      "source": [
        "confusion_matrix(y_test, y_pred)"
      ],
      "metadata": {
        "colab": {
          "base_uri": "https://localhost:8080/"
        },
        "id": "ao-hPfgJOFGO",
        "outputId": "a6fd1423-0f7b-48c1-b20e-9e20701dfaf2"
      },
      "execution_count": 35,
      "outputs": [
        {
          "output_type": "execute_result",
          "data": {
            "text/plain": [
              "array([[1181,   13],\n",
              "       [ 234,   72]])"
            ]
          },
          "metadata": {},
          "execution_count": 35
        }
      ]
    },
    {
      "cell_type": "code",
      "source": [],
      "metadata": {
        "id": "2QfKk5_fOKuw"
      },
      "execution_count": null,
      "outputs": []
    }
  ]
}