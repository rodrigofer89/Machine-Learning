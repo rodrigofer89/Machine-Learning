{
  "nbformat": 4,
  "nbformat_minor": 0,
  "metadata": {
    "colab": {
      "provenance": [],
      "authorship_tag": "ABX9TyNR407ZoziKegqWddFeRdyW",
      "include_colab_link": true
    },
    "kernelspec": {
      "name": "python3",
      "display_name": "Python 3"
    },
    "language_info": {
      "name": "python"
    }
  },
  "cells": [
    {
      "cell_type": "markdown",
      "metadata": {
        "id": "view-in-github",
        "colab_type": "text"
      },
      "source": [
        "<a href=\"https://colab.research.google.com/github/rodrigofer89/Machine-Learning/blob/main/Regress%C3%A3o_Linear_02.ipynb\" target=\"_parent\"><img src=\"https://colab.research.google.com/assets/colab-badge.svg\" alt=\"Open In Colab\"/></a>"
      ]
    },
    {
      "cell_type": "markdown",
      "source": [
        "**Entendimento do problema**\n",
        "\n",
        "É possível prever a altura dos filhos baseado nas alturas dos pais?"
      ],
      "metadata": {
        "id": "nPKtcaL83Rad"
      }
    },
    {
      "cell_type": "code",
      "execution_count": 46,
      "metadata": {
        "id": "EuerTTFwrL3z"
      },
      "outputs": [],
      "source": [
        "# Imports necessários\n",
        "import pandas as pd\n",
        "from sklearn.linear_model import LinearRegression\n",
        "from sklearn.model_selection import train_test_split\n",
        "from sklearn.metrics import mean_absolute_error, mean_squared_error, r2_score"
      ]
    },
    {
      "cell_type": "code",
      "source": [
        "df = pd.read_csv('galton.csv')\n",
        "df.head(5)"
      ],
      "metadata": {
        "colab": {
          "base_uri": "https://localhost:8080/",
          "height": 206
        },
        "id": "mh7IMAmT2XdD",
        "outputId": "14e44f9a-1adb-41e2-d0dd-45631482f352"
      },
      "execution_count": 47,
      "outputs": [
        {
          "output_type": "execute_result",
          "data": {
            "text/plain": [
              "  family  father  mother  midparentHeight  children  childNum  gender  \\\n",
              "0      1    78.5    67.0            75.43         4         1    male   \n",
              "1      1    78.5    67.0            75.43         4         2  female   \n",
              "2      1    78.5    67.0            75.43         4         3  female   \n",
              "3      1    78.5    67.0            75.43         4         4  female   \n",
              "4      2    75.5    66.5            73.66         4         1    male   \n",
              "\n",
              "   childHeight  \n",
              "0         73.2  \n",
              "1         69.2  \n",
              "2         69.0  \n",
              "3         69.0  \n",
              "4         73.5  "
            ],
            "text/html": [
              "\n",
              "  <div id=\"df-73a8c788-3e55-439f-b810-4884ad999f9e\">\n",
              "    <div class=\"colab-df-container\">\n",
              "      <div>\n",
              "<style scoped>\n",
              "    .dataframe tbody tr th:only-of-type {\n",
              "        vertical-align: middle;\n",
              "    }\n",
              "\n",
              "    .dataframe tbody tr th {\n",
              "        vertical-align: top;\n",
              "    }\n",
              "\n",
              "    .dataframe thead th {\n",
              "        text-align: right;\n",
              "    }\n",
              "</style>\n",
              "<table border=\"1\" class=\"dataframe\">\n",
              "  <thead>\n",
              "    <tr style=\"text-align: right;\">\n",
              "      <th></th>\n",
              "      <th>family</th>\n",
              "      <th>father</th>\n",
              "      <th>mother</th>\n",
              "      <th>midparentHeight</th>\n",
              "      <th>children</th>\n",
              "      <th>childNum</th>\n",
              "      <th>gender</th>\n",
              "      <th>childHeight</th>\n",
              "    </tr>\n",
              "  </thead>\n",
              "  <tbody>\n",
              "    <tr>\n",
              "      <th>0</th>\n",
              "      <td>1</td>\n",
              "      <td>78.5</td>\n",
              "      <td>67.0</td>\n",
              "      <td>75.43</td>\n",
              "      <td>4</td>\n",
              "      <td>1</td>\n",
              "      <td>male</td>\n",
              "      <td>73.2</td>\n",
              "    </tr>\n",
              "    <tr>\n",
              "      <th>1</th>\n",
              "      <td>1</td>\n",
              "      <td>78.5</td>\n",
              "      <td>67.0</td>\n",
              "      <td>75.43</td>\n",
              "      <td>4</td>\n",
              "      <td>2</td>\n",
              "      <td>female</td>\n",
              "      <td>69.2</td>\n",
              "    </tr>\n",
              "    <tr>\n",
              "      <th>2</th>\n",
              "      <td>1</td>\n",
              "      <td>78.5</td>\n",
              "      <td>67.0</td>\n",
              "      <td>75.43</td>\n",
              "      <td>4</td>\n",
              "      <td>3</td>\n",
              "      <td>female</td>\n",
              "      <td>69.0</td>\n",
              "    </tr>\n",
              "    <tr>\n",
              "      <th>3</th>\n",
              "      <td>1</td>\n",
              "      <td>78.5</td>\n",
              "      <td>67.0</td>\n",
              "      <td>75.43</td>\n",
              "      <td>4</td>\n",
              "      <td>4</td>\n",
              "      <td>female</td>\n",
              "      <td>69.0</td>\n",
              "    </tr>\n",
              "    <tr>\n",
              "      <th>4</th>\n",
              "      <td>2</td>\n",
              "      <td>75.5</td>\n",
              "      <td>66.5</td>\n",
              "      <td>73.66</td>\n",
              "      <td>4</td>\n",
              "      <td>1</td>\n",
              "      <td>male</td>\n",
              "      <td>73.5</td>\n",
              "    </tr>\n",
              "  </tbody>\n",
              "</table>\n",
              "</div>\n",
              "      <button class=\"colab-df-convert\" onclick=\"convertToInteractive('df-73a8c788-3e55-439f-b810-4884ad999f9e')\"\n",
              "              title=\"Convert this dataframe to an interactive table.\"\n",
              "              style=\"display:none;\">\n",
              "        \n",
              "  <svg xmlns=\"http://www.w3.org/2000/svg\" height=\"24px\"viewBox=\"0 0 24 24\"\n",
              "       width=\"24px\">\n",
              "    <path d=\"M0 0h24v24H0V0z\" fill=\"none\"/>\n",
              "    <path d=\"M18.56 5.44l.94 2.06.94-2.06 2.06-.94-2.06-.94-.94-2.06-.94 2.06-2.06.94zm-11 1L8.5 8.5l.94-2.06 2.06-.94-2.06-.94L8.5 2.5l-.94 2.06-2.06.94zm10 10l.94 2.06.94-2.06 2.06-.94-2.06-.94-.94-2.06-.94 2.06-2.06.94z\"/><path d=\"M17.41 7.96l-1.37-1.37c-.4-.4-.92-.59-1.43-.59-.52 0-1.04.2-1.43.59L10.3 9.45l-7.72 7.72c-.78.78-.78 2.05 0 2.83L4 21.41c.39.39.9.59 1.41.59.51 0 1.02-.2 1.41-.59l7.78-7.78 2.81-2.81c.8-.78.8-2.07 0-2.86zM5.41 20L4 18.59l7.72-7.72 1.47 1.35L5.41 20z\"/>\n",
              "  </svg>\n",
              "      </button>\n",
              "      \n",
              "  <style>\n",
              "    .colab-df-container {\n",
              "      display:flex;\n",
              "      flex-wrap:wrap;\n",
              "      gap: 12px;\n",
              "    }\n",
              "\n",
              "    .colab-df-convert {\n",
              "      background-color: #E8F0FE;\n",
              "      border: none;\n",
              "      border-radius: 50%;\n",
              "      cursor: pointer;\n",
              "      display: none;\n",
              "      fill: #1967D2;\n",
              "      height: 32px;\n",
              "      padding: 0 0 0 0;\n",
              "      width: 32px;\n",
              "    }\n",
              "\n",
              "    .colab-df-convert:hover {\n",
              "      background-color: #E2EBFA;\n",
              "      box-shadow: 0px 1px 2px rgba(60, 64, 67, 0.3), 0px 1px 3px 1px rgba(60, 64, 67, 0.15);\n",
              "      fill: #174EA6;\n",
              "    }\n",
              "\n",
              "    [theme=dark] .colab-df-convert {\n",
              "      background-color: #3B4455;\n",
              "      fill: #D2E3FC;\n",
              "    }\n",
              "\n",
              "    [theme=dark] .colab-df-convert:hover {\n",
              "      background-color: #434B5C;\n",
              "      box-shadow: 0px 1px 3px 1px rgba(0, 0, 0, 0.15);\n",
              "      filter: drop-shadow(0px 1px 2px rgba(0, 0, 0, 0.3));\n",
              "      fill: #FFFFFF;\n",
              "    }\n",
              "  </style>\n",
              "\n",
              "      <script>\n",
              "        const buttonEl =\n",
              "          document.querySelector('#df-73a8c788-3e55-439f-b810-4884ad999f9e button.colab-df-convert');\n",
              "        buttonEl.style.display =\n",
              "          google.colab.kernel.accessAllowed ? 'block' : 'none';\n",
              "\n",
              "        async function convertToInteractive(key) {\n",
              "          const element = document.querySelector('#df-73a8c788-3e55-439f-b810-4884ad999f9e');\n",
              "          const dataTable =\n",
              "            await google.colab.kernel.invokeFunction('convertToInteractive',\n",
              "                                                     [key], {});\n",
              "          if (!dataTable) return;\n",
              "\n",
              "          const docLinkHtml = 'Like what you see? Visit the ' +\n",
              "            '<a target=\"_blank\" href=https://colab.research.google.com/notebooks/data_table.ipynb>data table notebook</a>'\n",
              "            + ' to learn more about interactive tables.';\n",
              "          element.innerHTML = '';\n",
              "          dataTable['output_type'] = 'display_data';\n",
              "          await google.colab.output.renderOutput(dataTable, element);\n",
              "          const docLink = document.createElement('div');\n",
              "          docLink.innerHTML = docLinkHtml;\n",
              "          element.appendChild(docLink);\n",
              "        }\n",
              "      </script>\n",
              "    </div>\n",
              "  </div>\n",
              "  "
            ]
          },
          "metadata": {},
          "execution_count": 47
        }
      ]
    },
    {
      "cell_type": "code",
      "source": [
        "# Quantos dados?\n",
        "df.shape"
      ],
      "metadata": {
        "colab": {
          "base_uri": "https://localhost:8080/"
        },
        "id": "VwPZt5vM4BPK",
        "outputId": "4571df61-5a88-4aef-87ef-0f783a8921cb"
      },
      "execution_count": 48,
      "outputs": [
        {
          "output_type": "execute_result",
          "data": {
            "text/plain": [
              "(934, 8)"
            ]
          },
          "metadata": {},
          "execution_count": 48
        }
      ]
    },
    {
      "cell_type": "code",
      "source": [
        "# Quais os tipos? Dados faltantes?\n",
        "# não existem dados faltantes\n",
        "df.info()"
      ],
      "metadata": {
        "colab": {
          "base_uri": "https://localhost:8080/"
        },
        "id": "jeZkyzRg4I4q",
        "outputId": "33c4fa9c-c55a-4cce-ee93-265ff69e88f7"
      },
      "execution_count": 49,
      "outputs": [
        {
          "output_type": "stream",
          "name": "stdout",
          "text": [
            "<class 'pandas.core.frame.DataFrame'>\n",
            "RangeIndex: 934 entries, 0 to 933\n",
            "Data columns (total 8 columns):\n",
            " #   Column           Non-Null Count  Dtype  \n",
            "---  ------           --------------  -----  \n",
            " 0   family           934 non-null    object \n",
            " 1   father           934 non-null    float64\n",
            " 2   mother           934 non-null    float64\n",
            " 3   midparentHeight  934 non-null    float64\n",
            " 4   children         934 non-null    int64  \n",
            " 5   childNum         934 non-null    int64  \n",
            " 6   gender           934 non-null    object \n",
            " 7   childHeight      934 non-null    float64\n",
            "dtypes: float64(4), int64(2), object(2)\n",
            "memory usage: 58.5+ KB\n"
          ]
        }
      ]
    },
    {
      "cell_type": "code",
      "source": [
        "# A coluna familia aparece como string pois existem valores alfabéticos, não será uma coluna útil\n",
        "df['family'].values"
      ],
      "metadata": {
        "id": "w0NLtX4h46l1",
        "colab": {
          "base_uri": "https://localhost:8080/"
        },
        "outputId": "1782ed50-ed8e-4203-8132-2cda46b10f7f"
      },
      "execution_count": 50,
      "outputs": [
        {
          "output_type": "execute_result",
          "data": {
            "text/plain": [
              "array(['1', '1', '1', '1', '2', '2', '2', '2', '3', '3', '4', '4', '4',\n",
              "       '4', '4', '5', '5', '5', '5', '5', '5', '6', '7', '7', '7', '7',\n",
              "       '7', '7', '8', '8', '8', '9', '10', '11', '11', '11', '11', '11',\n",
              "       '11', '11', '11', '12', '13', '13', '14', '14', '15', '15', '15',\n",
              "       '16', '16', '16', '16', '16', '16', '16', '16', '16', '17', '17',\n",
              "       '17', '17', '17', '17', '18', '18', '18', '19', '20', '20', '20',\n",
              "       '20', '20', '20', '20', '20', '21', '21', '21', '22', '22', '22',\n",
              "       '23', '23', '23', '23', '23', '23', '23', '24', '25', '25', '26',\n",
              "       '26', '26', '26', '26', '27', '27', '27', '28', '28', '28', '28',\n",
              "       '28', '28', '29', '29', '29', '30', '31', '31', '31', '31', '31',\n",
              "       '31', '32', '32', '32', '32', '32', '33', '33', '33', '33', '33',\n",
              "       '34', '35', '35', '35', '35', '35', '36', '36', '36', '36', '37',\n",
              "       '37', '37', '37', '38', '38', '38', '38', '38', '38', '39', '39',\n",
              "       '40', '40', '40', '40', '40', '41', '42', '42', '42', '42', '42',\n",
              "       '42', '43', '43', '44', '44', '45', '45', '45', '46', '46', '46',\n",
              "       '46', '46', '46', '46', '46', '47', '47', '47', '47', '48', '48',\n",
              "       '48', '49', '49', '49', '49', '49', '49', '49', '50', '50', '51',\n",
              "       '51', '52', '52', '52', '52', '52', '53', '53', '53', '53', '53',\n",
              "       '53', '53', '53', '53', '54', '54', '54', '54', '55', '55', '55',\n",
              "       '55', '55', '56', '56', '56', '56', '56', '57', '57', '57', '57',\n",
              "       '57', '58', '58', '58', '58', '58', '58', '58', '59', '60', '60',\n",
              "       '61', '61', '61', '61', '62', '62', '62', '62', '62', '62', '63',\n",
              "       '64', '64', '64', '64', '64', '65', '66', '66', '66', '66', '66',\n",
              "       '66', '66', '66', '66', '66', '66', '67', '67', '67', '67', '68',\n",
              "       '68', '68', '68', '68', '69', '69', '69', '69', '69', '69', '69',\n",
              "       '69', '70', '70', '70', '70', '70', '71', '71', '71', '71', '71',\n",
              "       '71', '72', '72', '72', '72', '72', '72', '72', '73', '73', '73',\n",
              "       '74', '74', '75', '75', '75', '75', '75', '75', '75', '76', '76',\n",
              "       '76', '76', '76', '76', '76', '77', '77', '77', '77', '78', '78',\n",
              "       '78', '78', '78', '79', '79', '79', '79', '79', '79', '79', '79',\n",
              "       '80', '81', '81', '81', '81', '82', '82', '82', '82', '82', '82',\n",
              "       '82', '82', '82', '83', '83', '83', '83', '83', '83', '83', '83',\n",
              "       '84', '84', '84', '84', '85', '85', '85', '85', '85', '86', '86',\n",
              "       '86', '86', '87', '87', '87', '87', '88', '88', '88', '88', '89',\n",
              "       '89', '89', '89', '89', '89', '89', '89', '90', '90', '90', '90',\n",
              "       '90', '90', '90', '91', '91', '91', '92', '92', '93', '93', '93',\n",
              "       '93', '94', '94', '95', '95', '95', '96', '96', '96', '96', '96',\n",
              "       '97', '97', '97', '97', '97', '97', '97', '97', '97', '97', '98',\n",
              "       '99', '99', '99', '99', '99', '99', '99', '99', '100', '100',\n",
              "       '100', '101', '101', '101', '101', '102', '102', '102', '102',\n",
              "       '102', '102', '103', '103', '103', '103', '103', '103', '103',\n",
              "       '104', '104', '104', '104', '105', '105', '105', '105', '105',\n",
              "       '105', '106', '106', '106', '106', '106', '106', '106', '107',\n",
              "       '107', '107', '107', '107', '107', '107', '107', '107', '108',\n",
              "       '108', '108', '108', '108', '108', '108', '109', '109', '109',\n",
              "       '109', '109', '109', '109', '110', '110', '110', '110', '111',\n",
              "       '112', '112', '112', '113', '114', '114', '114', '114', '114',\n",
              "       '114', '115', '115', '115', '115', '115', '115', '115', '116',\n",
              "       '116', '116', '117', '118', '118', '118', '119', '119', '119',\n",
              "       '119', '119', '120', '120', '120', '120', '120', '120', '120',\n",
              "       '120', '120', '120', '120', '121', '121', '121', '121', '121',\n",
              "       '121', '121', '121', '122', '122', '122', '122', '123', '123',\n",
              "       '123', '123', '123', '124', '124', '124', '124', '124', '124',\n",
              "       '124', '124', '124', '125', '125', '125', '126', '126', '126',\n",
              "       '126', '127', '128', '128', '129', '129', '129', '130', '130',\n",
              "       '130', '130', '130', '130', '130', '130', '130', '130', '130',\n",
              "       '131', '131', '132', '132', '133', '133', '133', '133', '133',\n",
              "       '133', '133', '134', '134', '134', '134', '135', '135', '135',\n",
              "       '135', '135', '135', '135', '135', '136A', '136A', '136A', '136A',\n",
              "       '136A', '136A', '136A', '136A', '136', '136', '136', '136', '136',\n",
              "       '136', '136', '136', '136', '136', '137', '137', '137', '137',\n",
              "       '138', '138', '138', '138', '138', '139', '140', '140', '140',\n",
              "       '140', '140', '140', '140', '140', '140', '140', '141', '141',\n",
              "       '141', '141', '141', '141', '141', '141', '142', '142', '142',\n",
              "       '142', '143', '144', '144', '144', '144', '145', '145', '145',\n",
              "       '145', '145', '145', '145', '145', '146', '146', '146', '146',\n",
              "       '146', '146', '147', '148', '149', '149', '149', '149', '149',\n",
              "       '150', '151', '151', '152', '153', '153', '153', '153', '153',\n",
              "       '154', '155', '155', '155', '155', '155', '155', '155', '156',\n",
              "       '156', '156', '156', '157', '158', '158', '158', '158', '158',\n",
              "       '158', '158', '158', '158', '158', '159', '159', '159', '159',\n",
              "       '159', '160', '161', '161', '161', '161', '161', '161', '161',\n",
              "       '161', '162', '162', '162', '162', '162', '162', '163', '163',\n",
              "       '163', '163', '163', '164', '164', '164', '164', '165', '165',\n",
              "       '165', '166', '166', '166', '166', '166', '166', '166', '166',\n",
              "       '166', '166', '166', '167', '167', '167', '167', '168', '168',\n",
              "       '168', '168', '168', '168', '168', '168', '169', '169', '169',\n",
              "       '170', '170', '170', '170', '170', '171', '172', '172', '172',\n",
              "       '172', '172', '172', '172', '172', '173', '173', '173', '173',\n",
              "       '173', '173', '173', '173', '173', '174', '174', '174', '174',\n",
              "       '174', '175', '175', '175', '175', '175', '175', '176', '176',\n",
              "       '176', '176', '176', '176', '176', '176', '177', '177', '177',\n",
              "       '177', '177', '178', '179', '179', '180', '180', '180', '180',\n",
              "       '180', '180', '181', '181', '181', '181', '181', '181', '181',\n",
              "       '182', '183', '183', '183', '183', '184', '185', '185', '185',\n",
              "       '185', '185', '185', '185', '185', '185', '185', '185', '185',\n",
              "       '185', '185', '185', '186', '186', '186', '186', '187', '188',\n",
              "       '188', '188', '188', '189', '189', '189', '189', '189', '190',\n",
              "       '190', '190', '190', '190', '190', '190', '190', '190', '191',\n",
              "       '191', '192', '192', '192', '192', '192', '192', '193', '193',\n",
              "       '193', '193', '193', '193', '194', '194', '195', '195', '195',\n",
              "       '196', '196', '196', '196', '197', '197', '197', '197', '197',\n",
              "       '198', '198', '198', '198', '198', '198', '198', '199', '199',\n",
              "       '199', '199', '199', '199', '199', '200', '201', '201', '202',\n",
              "       '202', '203', '203', '203', '204', '204'], dtype=object)"
            ]
          },
          "metadata": {},
          "execution_count": 50
        }
      ]
    },
    {
      "cell_type": "code",
      "source": [
        "# Alguma info estatística útil?\n",
        "df.describe()"
      ],
      "metadata": {
        "colab": {
          "base_uri": "https://localhost:8080/",
          "height": 300
        },
        "id": "lA0_tivd4MLX",
        "outputId": "2019f384-dc41-4be7-83e7-93bddc17a2ef"
      },
      "execution_count": 51,
      "outputs": [
        {
          "output_type": "execute_result",
          "data": {
            "text/plain": [
              "           father      mother  midparentHeight    children    childNum  \\\n",
              "count  934.000000  934.000000       934.000000  934.000000  934.000000   \n",
              "mean    69.197109   64.089293        69.206773    6.171306    3.585653   \n",
              "std      2.476479    2.290886         1.802370    2.729025    2.361410   \n",
              "min     62.000000   58.000000        64.400000    1.000000    1.000000   \n",
              "25%     68.000000   63.000000        68.140000    4.000000    2.000000   \n",
              "50%     69.000000   64.000000        69.248000    6.000000    3.000000   \n",
              "75%     71.000000   65.875000        70.140000    8.000000    5.000000   \n",
              "max     78.500000   70.500000        75.430000   15.000000   15.000000   \n",
              "\n",
              "       childHeight  \n",
              "count   934.000000  \n",
              "mean     66.745931  \n",
              "std       3.579251  \n",
              "min      56.000000  \n",
              "25%      64.000000  \n",
              "50%      66.500000  \n",
              "75%      69.700000  \n",
              "max      79.000000  "
            ],
            "text/html": [
              "\n",
              "  <div id=\"df-9d2afbb6-21e4-490f-b4b4-6a04ab9846b2\">\n",
              "    <div class=\"colab-df-container\">\n",
              "      <div>\n",
              "<style scoped>\n",
              "    .dataframe tbody tr th:only-of-type {\n",
              "        vertical-align: middle;\n",
              "    }\n",
              "\n",
              "    .dataframe tbody tr th {\n",
              "        vertical-align: top;\n",
              "    }\n",
              "\n",
              "    .dataframe thead th {\n",
              "        text-align: right;\n",
              "    }\n",
              "</style>\n",
              "<table border=\"1\" class=\"dataframe\">\n",
              "  <thead>\n",
              "    <tr style=\"text-align: right;\">\n",
              "      <th></th>\n",
              "      <th>father</th>\n",
              "      <th>mother</th>\n",
              "      <th>midparentHeight</th>\n",
              "      <th>children</th>\n",
              "      <th>childNum</th>\n",
              "      <th>childHeight</th>\n",
              "    </tr>\n",
              "  </thead>\n",
              "  <tbody>\n",
              "    <tr>\n",
              "      <th>count</th>\n",
              "      <td>934.000000</td>\n",
              "      <td>934.000000</td>\n",
              "      <td>934.000000</td>\n",
              "      <td>934.000000</td>\n",
              "      <td>934.000000</td>\n",
              "      <td>934.000000</td>\n",
              "    </tr>\n",
              "    <tr>\n",
              "      <th>mean</th>\n",
              "      <td>69.197109</td>\n",
              "      <td>64.089293</td>\n",
              "      <td>69.206773</td>\n",
              "      <td>6.171306</td>\n",
              "      <td>3.585653</td>\n",
              "      <td>66.745931</td>\n",
              "    </tr>\n",
              "    <tr>\n",
              "      <th>std</th>\n",
              "      <td>2.476479</td>\n",
              "      <td>2.290886</td>\n",
              "      <td>1.802370</td>\n",
              "      <td>2.729025</td>\n",
              "      <td>2.361410</td>\n",
              "      <td>3.579251</td>\n",
              "    </tr>\n",
              "    <tr>\n",
              "      <th>min</th>\n",
              "      <td>62.000000</td>\n",
              "      <td>58.000000</td>\n",
              "      <td>64.400000</td>\n",
              "      <td>1.000000</td>\n",
              "      <td>1.000000</td>\n",
              "      <td>56.000000</td>\n",
              "    </tr>\n",
              "    <tr>\n",
              "      <th>25%</th>\n",
              "      <td>68.000000</td>\n",
              "      <td>63.000000</td>\n",
              "      <td>68.140000</td>\n",
              "      <td>4.000000</td>\n",
              "      <td>2.000000</td>\n",
              "      <td>64.000000</td>\n",
              "    </tr>\n",
              "    <tr>\n",
              "      <th>50%</th>\n",
              "      <td>69.000000</td>\n",
              "      <td>64.000000</td>\n",
              "      <td>69.248000</td>\n",
              "      <td>6.000000</td>\n",
              "      <td>3.000000</td>\n",
              "      <td>66.500000</td>\n",
              "    </tr>\n",
              "    <tr>\n",
              "      <th>75%</th>\n",
              "      <td>71.000000</td>\n",
              "      <td>65.875000</td>\n",
              "      <td>70.140000</td>\n",
              "      <td>8.000000</td>\n",
              "      <td>5.000000</td>\n",
              "      <td>69.700000</td>\n",
              "    </tr>\n",
              "    <tr>\n",
              "      <th>max</th>\n",
              "      <td>78.500000</td>\n",
              "      <td>70.500000</td>\n",
              "      <td>75.430000</td>\n",
              "      <td>15.000000</td>\n",
              "      <td>15.000000</td>\n",
              "      <td>79.000000</td>\n",
              "    </tr>\n",
              "  </tbody>\n",
              "</table>\n",
              "</div>\n",
              "      <button class=\"colab-df-convert\" onclick=\"convertToInteractive('df-9d2afbb6-21e4-490f-b4b4-6a04ab9846b2')\"\n",
              "              title=\"Convert this dataframe to an interactive table.\"\n",
              "              style=\"display:none;\">\n",
              "        \n",
              "  <svg xmlns=\"http://www.w3.org/2000/svg\" height=\"24px\"viewBox=\"0 0 24 24\"\n",
              "       width=\"24px\">\n",
              "    <path d=\"M0 0h24v24H0V0z\" fill=\"none\"/>\n",
              "    <path d=\"M18.56 5.44l.94 2.06.94-2.06 2.06-.94-2.06-.94-.94-2.06-.94 2.06-2.06.94zm-11 1L8.5 8.5l.94-2.06 2.06-.94-2.06-.94L8.5 2.5l-.94 2.06-2.06.94zm10 10l.94 2.06.94-2.06 2.06-.94-2.06-.94-.94-2.06-.94 2.06-2.06.94z\"/><path d=\"M17.41 7.96l-1.37-1.37c-.4-.4-.92-.59-1.43-.59-.52 0-1.04.2-1.43.59L10.3 9.45l-7.72 7.72c-.78.78-.78 2.05 0 2.83L4 21.41c.39.39.9.59 1.41.59.51 0 1.02-.2 1.41-.59l7.78-7.78 2.81-2.81c.8-.78.8-2.07 0-2.86zM5.41 20L4 18.59l7.72-7.72 1.47 1.35L5.41 20z\"/>\n",
              "  </svg>\n",
              "      </button>\n",
              "      \n",
              "  <style>\n",
              "    .colab-df-container {\n",
              "      display:flex;\n",
              "      flex-wrap:wrap;\n",
              "      gap: 12px;\n",
              "    }\n",
              "\n",
              "    .colab-df-convert {\n",
              "      background-color: #E8F0FE;\n",
              "      border: none;\n",
              "      border-radius: 50%;\n",
              "      cursor: pointer;\n",
              "      display: none;\n",
              "      fill: #1967D2;\n",
              "      height: 32px;\n",
              "      padding: 0 0 0 0;\n",
              "      width: 32px;\n",
              "    }\n",
              "\n",
              "    .colab-df-convert:hover {\n",
              "      background-color: #E2EBFA;\n",
              "      box-shadow: 0px 1px 2px rgba(60, 64, 67, 0.3), 0px 1px 3px 1px rgba(60, 64, 67, 0.15);\n",
              "      fill: #174EA6;\n",
              "    }\n",
              "\n",
              "    [theme=dark] .colab-df-convert {\n",
              "      background-color: #3B4455;\n",
              "      fill: #D2E3FC;\n",
              "    }\n",
              "\n",
              "    [theme=dark] .colab-df-convert:hover {\n",
              "      background-color: #434B5C;\n",
              "      box-shadow: 0px 1px 3px 1px rgba(0, 0, 0, 0.15);\n",
              "      filter: drop-shadow(0px 1px 2px rgba(0, 0, 0, 0.3));\n",
              "      fill: #FFFFFF;\n",
              "    }\n",
              "  </style>\n",
              "\n",
              "      <script>\n",
              "        const buttonEl =\n",
              "          document.querySelector('#df-9d2afbb6-21e4-490f-b4b4-6a04ab9846b2 button.colab-df-convert');\n",
              "        buttonEl.style.display =\n",
              "          google.colab.kernel.accessAllowed ? 'block' : 'none';\n",
              "\n",
              "        async function convertToInteractive(key) {\n",
              "          const element = document.querySelector('#df-9d2afbb6-21e4-490f-b4b4-6a04ab9846b2');\n",
              "          const dataTable =\n",
              "            await google.colab.kernel.invokeFunction('convertToInteractive',\n",
              "                                                     [key], {});\n",
              "          if (!dataTable) return;\n",
              "\n",
              "          const docLinkHtml = 'Like what you see? Visit the ' +\n",
              "            '<a target=\"_blank\" href=https://colab.research.google.com/notebooks/data_table.ipynb>data table notebook</a>'\n",
              "            + ' to learn more about interactive tables.';\n",
              "          element.innerHTML = '';\n",
              "          dataTable['output_type'] = 'display_data';\n",
              "          await google.colab.output.renderOutput(dataTable, element);\n",
              "          const docLink = document.createElement('div');\n",
              "          docLink.innerHTML = docLinkHtml;\n",
              "          element.appendChild(docLink);\n",
              "        }\n",
              "      </script>\n",
              "    </div>\n",
              "  </div>\n",
              "  "
            ]
          },
          "metadata": {},
          "execution_count": 51
        }
      ]
    },
    {
      "cell_type": "code",
      "source": [
        "# Quantos valores únicos por coluna?\n",
        "df.nunique()"
      ],
      "metadata": {
        "colab": {
          "base_uri": "https://localhost:8080/"
        },
        "id": "Dc0Pjhw940av",
        "outputId": "9d7ddd14-e929-48f7-8daa-a4f679bf5562"
      },
      "execution_count": 52,
      "outputs": [
        {
          "output_type": "execute_result",
          "data": {
            "text/plain": [
              "family             205\n",
              "father              35\n",
              "mother              29\n",
              "midparentHeight    140\n",
              "children            12\n",
              "childNum            15\n",
              "gender               2\n",
              "childHeight         67\n",
              "dtype: int64"
            ]
          },
          "metadata": {},
          "execution_count": 52
        }
      ]
    },
    {
      "cell_type": "markdown",
      "source": [
        "**Limpeza dos dados**"
      ],
      "metadata": {
        "id": "1Msdi_VY5xmq"
      }
    },
    {
      "cell_type": "code",
      "source": [
        "# Removendo duplicatas, nesse caso não axistem dados duplicados\n",
        "df.drop_duplicates(inplace=True)"
      ],
      "metadata": {
        "id": "EseaAgXf50Sc"
      },
      "execution_count": 53,
      "outputs": []
    },
    {
      "cell_type": "code",
      "source": [
        "# Removendo dados faltantes, nesse caso não existem dados faltantes\n",
        "df.dropna(inplace=True)"
      ],
      "metadata": {
        "id": "EHi6NFHz53vc"
      },
      "execution_count": 54,
      "outputs": []
    },
    {
      "cell_type": "code",
      "source": [
        "df.shape"
      ],
      "metadata": {
        "colab": {
          "base_uri": "https://localhost:8080/"
        },
        "id": "XcMNKoxB559D",
        "outputId": "ebde9163-e7bf-4fac-da37-455cc4b7fac6"
      },
      "execution_count": 55,
      "outputs": [
        {
          "output_type": "execute_result",
          "data": {
            "text/plain": [
              "(934, 8)"
            ]
          },
          "metadata": {},
          "execution_count": 55
        }
      ]
    },
    {
      "cell_type": "markdown",
      "source": [
        "Vamos trabalhar com dados em **m**?"
      ],
      "metadata": {
        "id": "gqwFoQQe6SM_"
      }
    },
    {
      "cell_type": "code",
      "source": [
        "def inch2m(inch):\n",
        "  return inch*2.54/100"
      ],
      "metadata": {
        "id": "_Ytg4K1W6Y6E"
      },
      "execution_count": 56,
      "outputs": []
    },
    {
      "cell_type": "code",
      "source": [
        "inch2m(78.5)"
      ],
      "metadata": {
        "colab": {
          "base_uri": "https://localhost:8080/"
        },
        "id": "TTVJ6dhD6rKg",
        "outputId": "81f8f58c-a2e1-4187-9c87-e32ff3b6bf22"
      },
      "execution_count": 57,
      "outputs": [
        {
          "output_type": "execute_result",
          "data": {
            "text/plain": [
              "1.9939000000000002"
            ]
          },
          "metadata": {},
          "execution_count": 57
        }
      ]
    },
    {
      "cell_type": "code",
      "source": [
        "# Aplicando a função para colocar os valores em metros\n",
        "df['father'] = df['father'].apply(inch2m)"
      ],
      "metadata": {
        "id": "P2L0RkH07pL-"
      },
      "execution_count": 58,
      "outputs": []
    },
    {
      "cell_type": "code",
      "source": [
        "# Fazendo um for nas outras colunas de altura para metros\n",
        "colunas = ['mother', 'midparentHeight', 'childHeight']\n",
        "for coluna in colunas:\n",
        "  df[coluna] = df[coluna].apply(inch2m)"
      ],
      "metadata": {
        "id": "ciq8eYI-79Sz"
      },
      "execution_count": 59,
      "outputs": []
    },
    {
      "cell_type": "markdown",
      "source": [
        "Sabemos que os modelos só trabalham com números, então não podemos deixar a coluna GENDER como está! Precisamos transformá-la!"
      ],
      "metadata": {
        "id": "YGrE5_fm80zi"
      }
    },
    {
      "cell_type": "code",
      "source": [
        "sexo = lambda x: 0 if x == 'male' else 1"
      ],
      "metadata": {
        "id": "xPGV1ogXdS7d"
      },
      "execution_count": 60,
      "outputs": []
    },
    {
      "cell_type": "code",
      "source": [
        "# Criando uma função para transformar MALE E FEMALE em 0 e 1\n",
        "def sex(x):\n",
        "  if x == 'male':\n",
        "    return 0\n",
        "  else:\n",
        "    return 1"
      ],
      "metadata": {
        "id": "XCMvnVzP9F-I"
      },
      "execution_count": 61,
      "outputs": []
    },
    {
      "cell_type": "code",
      "source": [
        "# Aplicando a função sex na coluna GENDER\n",
        "df['gender'] = df['gender'].apply(sex)"
      ],
      "metadata": {
        "id": "T7KvKIA09oSQ"
      },
      "execution_count": 62,
      "outputs": []
    },
    {
      "cell_type": "code",
      "source": [
        "# Removendo colunas que não serão úteis\n",
        "df2 = df.drop(columns=['family', 'childNum', 'children'])"
      ],
      "metadata": {
        "id": "32GuWExg9ubv"
      },
      "execution_count": 63,
      "outputs": []
    },
    {
      "cell_type": "markdown",
      "source": [
        "**Modelagem**"
      ],
      "metadata": {
        "id": "yXQ5YxuK-dv-"
      }
    },
    {
      "cell_type": "code",
      "source": [
        "# Separação de DADOS e LABEL => y = a*X + b\n",
        "X = df2.drop(columns=['childHeight'])\n",
        "y = df2['childHeight']"
      ],
      "metadata": {
        "id": "IpFlNsmr-gFu"
      },
      "execution_count": 64,
      "outputs": []
    },
    {
      "cell_type": "code",
      "source": [
        "# Dividindo dados para TREINO e TESTE\n",
        "X_train, X_test, y_train, y_test = train_test_split(X, y,\n",
        "                                    test_size = 0.3,\n",
        "                                    random_state=43)"
      ],
      "metadata": {
        "id": "X5SlG42__MoS"
      },
      "execution_count": 65,
      "outputs": []
    },
    {
      "cell_type": "code",
      "source": [
        "# Treinando o modelo\n",
        "modelo = LinearRegression()\n",
        "modelo.fit(X_train, y_train)"
      ],
      "metadata": {
        "colab": {
          "base_uri": "https://localhost:8080/"
        },
        "id": "oznjAWXi_0CY",
        "outputId": "05f12d3d-f18b-458c-a3d7-0fa92b9b3e75"
      },
      "execution_count": 66,
      "outputs": [
        {
          "output_type": "execute_result",
          "data": {
            "text/plain": [
              "LinearRegression()"
            ]
          },
          "metadata": {},
          "execution_count": 66
        }
      ]
    },
    {
      "cell_type": "code",
      "source": [
        "# Fazendo as predições\n",
        "y_pred = modelo.predict(X_test)"
      ],
      "metadata": {
        "id": "6t_iN_5kADpx"
      },
      "execution_count": 67,
      "outputs": []
    },
    {
      "cell_type": "markdown",
      "source": [
        "**Avaliação das previsões**"
      ],
      "metadata": {
        "id": "NfnRRiQvAUhf"
      }
    },
    {
      "cell_type": "code",
      "source": [
        "# Erro quadrático médio\n",
        "mean_squared_error(y_test, y_pred)"
      ],
      "metadata": {
        "colab": {
          "base_uri": "https://localhost:8080/"
        },
        "id": "g9j7fRiiAYSX",
        "outputId": "3ad18fe4-d274-430d-9165-2abe379cf941"
      },
      "execution_count": 68,
      "outputs": [
        {
          "output_type": "execute_result",
          "data": {
            "text/plain": [
              "0.003095344698336929"
            ]
          },
          "metadata": {},
          "execution_count": 68
        }
      ]
    },
    {
      "cell_type": "code",
      "source": [
        "# Erro absoluto médio\n",
        "mean_absolute_error(y_test, y_pred)"
      ],
      "metadata": {
        "colab": {
          "base_uri": "https://localhost:8080/"
        },
        "id": "pVX1MH4XAt8v",
        "outputId": "ce254a60-eff5-42d5-92b0-2d37e13ef7b5"
      },
      "execution_count": 69,
      "outputs": [
        {
          "output_type": "execute_result",
          "data": {
            "text/plain": [
              "0.04398745830307559"
            ]
          },
          "metadata": {},
          "execution_count": 69
        }
      ]
    },
    {
      "cell_type": "code",
      "source": [
        "# R2_score\n",
        "r2_score(y_test, y_pred)"
      ],
      "metadata": {
        "colab": {
          "base_uri": "https://localhost:8080/"
        },
        "id": "j5qgLKn3BJh_",
        "outputId": "015b6b35-3856-4f92-ea7d-d0e8ce8ea64c"
      },
      "execution_count": 70,
      "outputs": [
        {
          "output_type": "execute_result",
          "data": {
            "text/plain": [
              "0.6137640207302077"
            ]
          },
          "metadata": {},
          "execution_count": 70
        }
      ]
    },
    {
      "cell_type": "markdown",
      "source": [
        "**Interpretando os coeficientes encontrados!**\n",
        "\n",
        "Vamos dar uma olhada nos coeficientes encontrados para cada caracteristica:\n"
      ],
      "metadata": {
        "id": "kse4zS7nBakN"
      }
    },
    {
      "cell_type": "code",
      "source": [
        "modelo.intercept_"
      ],
      "metadata": {
        "colab": {
          "base_uri": "https://localhost:8080/"
        },
        "id": "Uzj1Y9jMBtni",
        "outputId": "cfe135cb-3f0a-4bc6-f4c9-6464bdb05982"
      },
      "execution_count": 71,
      "outputs": [
        {
          "output_type": "execute_result",
          "data": {
            "text/plain": [
              "0.4841855410126339"
            ]
          },
          "metadata": {},
          "execution_count": 71
        }
      ]
    },
    {
      "cell_type": "code",
      "source": [
        "modelo.coef_"
      ],
      "metadata": {
        "colab": {
          "base_uri": "https://localhost:8080/"
        },
        "id": "LPWwvMwfCgSI",
        "outputId": "32fd944a-0998-40de-cdf8-2daa26a79d5b"
      },
      "execution_count": 72,
      "outputs": [
        {
          "output_type": "execute_result",
          "data": {
            "text/plain": [
              "array([-7.10165826e+12, -7.66979092e+12,  1.42033165e+13, -1.31347656e-01])"
            ]
          },
          "metadata": {},
          "execution_count": 72
        }
      ]
    },
    {
      "cell_type": "code",
      "source": [
        "pd.DataFrame({\n",
        "        'features': X_train.columns,\n",
        "        'coeficientes': modelo.coef_\n",
        "    }).sort_values(by='coeficientes', ascending=False)"
      ],
      "metadata": {
        "colab": {
          "base_uri": "https://localhost:8080/",
          "height": 175
        },
        "id": "ZAkADwwGCl2H",
        "outputId": "2095e933-498a-44f9-d4ee-8f8d89a66032"
      },
      "execution_count": 73,
      "outputs": [
        {
          "output_type": "execute_result",
          "data": {
            "text/plain": [
              "          features  coeficientes\n",
              "2  midparentHeight  1.420332e+13\n",
              "3           gender -1.313477e-01\n",
              "0           father -7.101658e+12\n",
              "1           mother -7.669791e+12"
            ],
            "text/html": [
              "\n",
              "  <div id=\"df-e75022cb-be87-4c87-9b27-ad7ded7e321d\">\n",
              "    <div class=\"colab-df-container\">\n",
              "      <div>\n",
              "<style scoped>\n",
              "    .dataframe tbody tr th:only-of-type {\n",
              "        vertical-align: middle;\n",
              "    }\n",
              "\n",
              "    .dataframe tbody tr th {\n",
              "        vertical-align: top;\n",
              "    }\n",
              "\n",
              "    .dataframe thead th {\n",
              "        text-align: right;\n",
              "    }\n",
              "</style>\n",
              "<table border=\"1\" class=\"dataframe\">\n",
              "  <thead>\n",
              "    <tr style=\"text-align: right;\">\n",
              "      <th></th>\n",
              "      <th>features</th>\n",
              "      <th>coeficientes</th>\n",
              "    </tr>\n",
              "  </thead>\n",
              "  <tbody>\n",
              "    <tr>\n",
              "      <th>2</th>\n",
              "      <td>midparentHeight</td>\n",
              "      <td>1.420332e+13</td>\n",
              "    </tr>\n",
              "    <tr>\n",
              "      <th>3</th>\n",
              "      <td>gender</td>\n",
              "      <td>-1.313477e-01</td>\n",
              "    </tr>\n",
              "    <tr>\n",
              "      <th>0</th>\n",
              "      <td>father</td>\n",
              "      <td>-7.101658e+12</td>\n",
              "    </tr>\n",
              "    <tr>\n",
              "      <th>1</th>\n",
              "      <td>mother</td>\n",
              "      <td>-7.669791e+12</td>\n",
              "    </tr>\n",
              "  </tbody>\n",
              "</table>\n",
              "</div>\n",
              "      <button class=\"colab-df-convert\" onclick=\"convertToInteractive('df-e75022cb-be87-4c87-9b27-ad7ded7e321d')\"\n",
              "              title=\"Convert this dataframe to an interactive table.\"\n",
              "              style=\"display:none;\">\n",
              "        \n",
              "  <svg xmlns=\"http://www.w3.org/2000/svg\" height=\"24px\"viewBox=\"0 0 24 24\"\n",
              "       width=\"24px\">\n",
              "    <path d=\"M0 0h24v24H0V0z\" fill=\"none\"/>\n",
              "    <path d=\"M18.56 5.44l.94 2.06.94-2.06 2.06-.94-2.06-.94-.94-2.06-.94 2.06-2.06.94zm-11 1L8.5 8.5l.94-2.06 2.06-.94-2.06-.94L8.5 2.5l-.94 2.06-2.06.94zm10 10l.94 2.06.94-2.06 2.06-.94-2.06-.94-.94-2.06-.94 2.06-2.06.94z\"/><path d=\"M17.41 7.96l-1.37-1.37c-.4-.4-.92-.59-1.43-.59-.52 0-1.04.2-1.43.59L10.3 9.45l-7.72 7.72c-.78.78-.78 2.05 0 2.83L4 21.41c.39.39.9.59 1.41.59.51 0 1.02-.2 1.41-.59l7.78-7.78 2.81-2.81c.8-.78.8-2.07 0-2.86zM5.41 20L4 18.59l7.72-7.72 1.47 1.35L5.41 20z\"/>\n",
              "  </svg>\n",
              "      </button>\n",
              "      \n",
              "  <style>\n",
              "    .colab-df-container {\n",
              "      display:flex;\n",
              "      flex-wrap:wrap;\n",
              "      gap: 12px;\n",
              "    }\n",
              "\n",
              "    .colab-df-convert {\n",
              "      background-color: #E8F0FE;\n",
              "      border: none;\n",
              "      border-radius: 50%;\n",
              "      cursor: pointer;\n",
              "      display: none;\n",
              "      fill: #1967D2;\n",
              "      height: 32px;\n",
              "      padding: 0 0 0 0;\n",
              "      width: 32px;\n",
              "    }\n",
              "\n",
              "    .colab-df-convert:hover {\n",
              "      background-color: #E2EBFA;\n",
              "      box-shadow: 0px 1px 2px rgba(60, 64, 67, 0.3), 0px 1px 3px 1px rgba(60, 64, 67, 0.15);\n",
              "      fill: #174EA6;\n",
              "    }\n",
              "\n",
              "    [theme=dark] .colab-df-convert {\n",
              "      background-color: #3B4455;\n",
              "      fill: #D2E3FC;\n",
              "    }\n",
              "\n",
              "    [theme=dark] .colab-df-convert:hover {\n",
              "      background-color: #434B5C;\n",
              "      box-shadow: 0px 1px 3px 1px rgba(0, 0, 0, 0.15);\n",
              "      filter: drop-shadow(0px 1px 2px rgba(0, 0, 0, 0.3));\n",
              "      fill: #FFFFFF;\n",
              "    }\n",
              "  </style>\n",
              "\n",
              "      <script>\n",
              "        const buttonEl =\n",
              "          document.querySelector('#df-e75022cb-be87-4c87-9b27-ad7ded7e321d button.colab-df-convert');\n",
              "        buttonEl.style.display =\n",
              "          google.colab.kernel.accessAllowed ? 'block' : 'none';\n",
              "\n",
              "        async function convertToInteractive(key) {\n",
              "          const element = document.querySelector('#df-e75022cb-be87-4c87-9b27-ad7ded7e321d');\n",
              "          const dataTable =\n",
              "            await google.colab.kernel.invokeFunction('convertToInteractive',\n",
              "                                                     [key], {});\n",
              "          if (!dataTable) return;\n",
              "\n",
              "          const docLinkHtml = 'Like what you see? Visit the ' +\n",
              "            '<a target=\"_blank\" href=https://colab.research.google.com/notebooks/data_table.ipynb>data table notebook</a>'\n",
              "            + ' to learn more about interactive tables.';\n",
              "          element.innerHTML = '';\n",
              "          dataTable['output_type'] = 'display_data';\n",
              "          await google.colab.output.renderOutput(dataTable, element);\n",
              "          const docLink = document.createElement('div');\n",
              "          docLink.innerHTML = docLinkHtml;\n",
              "          element.appendChild(docLink);\n",
              "        }\n",
              "      </script>\n",
              "    </div>\n",
              "  </div>\n",
              "  "
            ]
          },
          "metadata": {},
          "execution_count": 73
        }
      ]
    },
    {
      "cell_type": "code",
      "source": [
        "df.info()"
      ],
      "metadata": {
        "colab": {
          "base_uri": "https://localhost:8080/"
        },
        "id": "SeCKyjTud4Wy",
        "outputId": "5caca8ba-4fe8-4661-96d4-4d571e6319c2"
      },
      "execution_count": 74,
      "outputs": [
        {
          "output_type": "stream",
          "name": "stdout",
          "text": [
            "<class 'pandas.core.frame.DataFrame'>\n",
            "Int64Index: 934 entries, 0 to 933\n",
            "Data columns (total 8 columns):\n",
            " #   Column           Non-Null Count  Dtype  \n",
            "---  ------           --------------  -----  \n",
            " 0   family           934 non-null    object \n",
            " 1   father           934 non-null    float64\n",
            " 2   mother           934 non-null    float64\n",
            " 3   midparentHeight  934 non-null    float64\n",
            " 4   children         934 non-null    int64  \n",
            " 5   childNum         934 non-null    int64  \n",
            " 6   gender           934 non-null    int64  \n",
            " 7   childHeight      934 non-null    float64\n",
            "dtypes: float64(4), int64(3), object(1)\n",
            "memory usage: 65.7+ KB\n"
          ]
        }
      ]
    },
    {
      "cell_type": "markdown",
      "source": [
        "**Criando um modelo com duas variaveis, a Target e midparentHeight**"
      ],
      "metadata": {
        "id": "rA78VuVyiJ5v"
      }
    },
    {
      "cell_type": "code",
      "source": [
        "# Retirando as colunas que não seram usadas\n",
        "df3 = df.drop(columns=['family', 'father', 'mother', 'children', 'childNum', 'gender'], axis=1)"
      ],
      "metadata": {
        "id": "ZBWXLHildxxf"
      },
      "execution_count": 107,
      "outputs": []
    },
    {
      "cell_type": "code",
      "source": [
        "# Separando a coluna Target\n",
        "X = df3.drop(columns=['childHeight'])\n",
        "y = df3['childHeight']"
      ],
      "metadata": {
        "id": "eAv1g_fQeKen"
      },
      "execution_count": 108,
      "outputs": []
    },
    {
      "cell_type": "code",
      "source": [
        "# Separando os dados em TREINO e TESTE\n",
        "X_train, X_test, y_train, y_test = train_test_split(X, y,\n",
        "                                                    test_size=0.3,\n",
        "                                                    random_state=42)"
      ],
      "metadata": {
        "id": "4qeiH7Bpejb5"
      },
      "execution_count": 109,
      "outputs": []
    },
    {
      "cell_type": "code",
      "source": [
        "# Criando o modelo \n",
        "modelo = LinearRegression()\n",
        "modelo.fit(X_train, y_train)"
      ],
      "metadata": {
        "colab": {
          "base_uri": "https://localhost:8080/"
        },
        "id": "i2RNdOxIfhtY",
        "outputId": "29bfb73e-b313-4e03-b3e0-261435c562e2"
      },
      "execution_count": 110,
      "outputs": [
        {
          "output_type": "execute_result",
          "data": {
            "text/plain": [
              "LinearRegression()"
            ]
          },
          "metadata": {},
          "execution_count": 110
        }
      ]
    },
    {
      "cell_type": "code",
      "source": [
        "# O valor predito é o X_test pois é o valor que não olhamos nunca, somente nas predições\n",
        "y_pred = modelo.predict(X_test)"
      ],
      "metadata": {
        "id": "YjlwE_oAf0bF"
      },
      "execution_count": 111,
      "outputs": []
    },
    {
      "cell_type": "code",
      "source": [
        "# Erro médio absoluto\n",
        "mean_absolute_error(y_test, y_pred)"
      ],
      "metadata": {
        "colab": {
          "base_uri": "https://localhost:8080/"
        },
        "id": "vzpneTcYghmP",
        "outputId": "7cf582f3-b478-4e51-cd44-ac2270cbc9e4"
      },
      "execution_count": 112,
      "outputs": [
        {
          "output_type": "execute_result",
          "data": {
            "text/plain": [
              "0.07417654868903377"
            ]
          },
          "metadata": {},
          "execution_count": 112
        }
      ]
    },
    {
      "cell_type": "code",
      "source": [
        "# Erro médio quadrado\n",
        "mean_squared_error(y_test, y_pred)"
      ],
      "metadata": {
        "colab": {
          "base_uri": "https://localhost:8080/"
        },
        "id": "tBiCTU2pgofm",
        "outputId": "c58cf1e3-140b-49d5-cb45-b5da3a3f17af"
      },
      "execution_count": 113,
      "outputs": [
        {
          "output_type": "execute_result",
          "data": {
            "text/plain": [
              "0.007662176577073954"
            ]
          },
          "metadata": {},
          "execution_count": 113
        }
      ]
    },
    {
      "cell_type": "code",
      "source": [
        "# R2 score\n",
        "r2_score(y_test, y_pred)"
      ],
      "metadata": {
        "colab": {
          "base_uri": "https://localhost:8080/"
        },
        "id": "uG23qMnjhN9x",
        "outputId": "29f66bae-2cb6-4fbb-e7ea-f6f8e16ee3eb"
      },
      "execution_count": 114,
      "outputs": [
        {
          "output_type": "execute_result",
          "data": {
            "text/plain": [
              "0.12716501104529288"
            ]
          },
          "metadata": {},
          "execution_count": 114
        }
      ]
    },
    {
      "cell_type": "code",
      "source": [
        "modelo.intercept_"
      ],
      "metadata": {
        "colab": {
          "base_uri": "https://localhost:8080/"
        },
        "id": "fhMm_qvShWUY",
        "outputId": "c75c4b68-00fc-4f62-8866-7c9e50b00372"
      },
      "execution_count": 115,
      "outputs": [
        {
          "output_type": "execute_result",
          "data": {
            "text/plain": [
              "0.6462355974582854"
            ]
          },
          "metadata": {},
          "execution_count": 115
        }
      ]
    },
    {
      "cell_type": "code",
      "source": [
        "modelo.coef_"
      ],
      "metadata": {
        "colab": {
          "base_uri": "https://localhost:8080/"
        },
        "id": "MLsuE9HKhqxV",
        "outputId": "c24eff26-8880-495b-c767-5f9649a228bb"
      },
      "execution_count": 116,
      "outputs": [
        {
          "output_type": "execute_result",
          "data": {
            "text/plain": [
              "array([0.59655342])"
            ]
          },
          "metadata": {},
          "execution_count": 116
        }
      ]
    },
    {
      "cell_type": "markdown",
      "source": [
        "Nesse caso o modelo acabou ficando pior, acredito que algumas variaveis retiradas são importantes para o modelo"
      ],
      "metadata": {
        "id": "yfUi5nVNiVzQ"
      }
    },
    {
      "cell_type": "code",
      "source": [
        "df.info()"
      ],
      "metadata": {
        "colab": {
          "base_uri": "https://localhost:8080/"
        },
        "id": "jiITf51kimOI",
        "outputId": "abbfb0fd-5e2a-456c-8035-60c280215ace"
      },
      "execution_count": 117,
      "outputs": [
        {
          "output_type": "stream",
          "name": "stdout",
          "text": [
            "<class 'pandas.core.frame.DataFrame'>\n",
            "Int64Index: 934 entries, 0 to 933\n",
            "Data columns (total 8 columns):\n",
            " #   Column           Non-Null Count  Dtype  \n",
            "---  ------           --------------  -----  \n",
            " 0   family           934 non-null    object \n",
            " 1   father           934 non-null    float64\n",
            " 2   mother           934 non-null    float64\n",
            " 3   midparentHeight  934 non-null    float64\n",
            " 4   children         934 non-null    int64  \n",
            " 5   childNum         934 non-null    int64  \n",
            " 6   gender           934 non-null    int64  \n",
            " 7   childHeight      934 non-null    float64\n",
            "dtypes: float64(4), int64(3), object(1)\n",
            "memory usage: 98.0+ KB\n"
          ]
        }
      ]
    },
    {
      "cell_type": "code",
      "source": [
        "# Retirando as colunas que não seram usadas\n",
        "df4 = df.drop(columns=['family', 'midparentHeight', 'children', 'childNum'])"
      ],
      "metadata": {
        "id": "EtOPx8zVifBH"
      },
      "execution_count": 118,
      "outputs": []
    },
    {
      "cell_type": "code",
      "source": [
        "# Separando a coluna Target do resto dos dados\n",
        "X = df4.drop(columns=['childHeight'])\n",
        "y = df4['childHeight']"
      ],
      "metadata": {
        "id": "CYA5Hc4Ziwqc"
      },
      "execution_count": 120,
      "outputs": []
    },
    {
      "cell_type": "code",
      "source": [
        "# Separando o modelo em TREINO e TESTE\n",
        "X_train, X_test, y_train, y_test = train_test_split(X, y,\n",
        "                                                    test_size=0.3,\n",
        "                                                    random_state=42)"
      ],
      "metadata": {
        "id": "qiogFJ1jjmvN"
      },
      "execution_count": 122,
      "outputs": []
    },
    {
      "cell_type": "code",
      "source": [
        "# Criando o modelo\n",
        "modelo = LinearRegression()\n",
        "modelo.fit(X_train, y_train)"
      ],
      "metadata": {
        "colab": {
          "base_uri": "https://localhost:8080/"
        },
        "id": "FaIR5GvQi5K0",
        "outputId": "723fed62-b020-4c8f-b0c3-c476184a949d"
      },
      "execution_count": 124,
      "outputs": [
        {
          "output_type": "execute_result",
          "data": {
            "text/plain": [
              "LinearRegression()"
            ]
          },
          "metadata": {},
          "execution_count": 124
        }
      ]
    },
    {
      "cell_type": "code",
      "source": [
        "# O valor predito é o X_test pois é o valor que não olhamos nunca, somente nas predições \n",
        "y_pred = modelo.predict(X_test)"
      ],
      "metadata": {
        "id": "2-XR0B5DkQSZ"
      },
      "execution_count": 125,
      "outputs": []
    },
    {
      "cell_type": "code",
      "source": [
        "# Erro média absoluto\n",
        "mean_absolute_error(y_test, y_pred)"
      ],
      "metadata": {
        "colab": {
          "base_uri": "https://localhost:8080/"
        },
        "id": "MHjWv3R2kxhA",
        "outputId": "1366a1fb-0b84-4949-ac3d-5871802317fc"
      },
      "execution_count": 126,
      "outputs": [
        {
          "output_type": "execute_result",
          "data": {
            "text/plain": [
              "0.043451097250684675"
            ]
          },
          "metadata": {},
          "execution_count": 126
        }
      ]
    },
    {
      "cell_type": "code",
      "source": [
        "# Erro médio quadrado\n",
        "mean_squared_error(y_test, y_pred)"
      ],
      "metadata": {
        "colab": {
          "base_uri": "https://localhost:8080/"
        },
        "id": "ZNc95susk4Bs",
        "outputId": "3ca24398-954f-4a51-f0bf-6d613c785d00"
      },
      "execution_count": 127,
      "outputs": [
        {
          "output_type": "execute_result",
          "data": {
            "text/plain": [
              "0.003065611457941626"
            ]
          },
          "metadata": {},
          "execution_count": 127
        }
      ]
    },
    {
      "cell_type": "code",
      "source": [
        "# R2 score\n",
        "r2_score(y_test, y_pred)"
      ],
      "metadata": {
        "colab": {
          "base_uri": "https://localhost:8080/"
        },
        "id": "s4dUlNv8lB2V",
        "outputId": "9ad1a083-7cf3-42ed-96e2-dbce6c38c45d"
      },
      "execution_count": 128,
      "outputs": [
        {
          "output_type": "execute_result",
          "data": {
            "text/plain": [
              "0.6507816132770812"
            ]
          },
          "metadata": {},
          "execution_count": 128
        }
      ]
    },
    {
      "cell_type": "markdown",
      "source": [
        "**Acretito que por ser um modelo muito simples não conseguimos melhoras significativas**\n",
        "\n",
        "**FIM!!**"
      ],
      "metadata": {
        "id": "J-ktu005leK0"
      }
    }
  ]
}